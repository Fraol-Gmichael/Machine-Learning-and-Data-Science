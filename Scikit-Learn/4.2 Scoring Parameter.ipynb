{
 "cells": [
  {
   "cell_type": "markdown",
   "id": "4b3ac327",
   "metadata": {},
   "source": [
    "# Introduction to Scikit-Learn (sklearn)\n",
    "\n",
    "0. An end to end sklearn workflow\n",
    "1. Getting the data ready\n",
    "2. Choose the right estimator/algorithm for our problems\n",
    "3. Fit the model/algorithm and use it to make predictions or our data\n",
    "4. =>Evaluating the model \n",
    "5. Improve the model\n",
    "6. Save and load trained model\n",
    "7. Putting it all together!"
   ]
  },
  {
   "cell_type": "markdown",
   "id": "48227103",
   "metadata": {},
   "source": [
    "## 4.2 Scoring Parameter"
   ]
  },
  {
   "cell_type": "code",
   "execution_count": 3,
   "id": "ffcb6d3e",
   "metadata": {},
   "outputs": [],
   "source": [
    "import pandas as pd\n",
    "import numpy as np\n",
    "from sklearn.datasets import load_boston\n",
    "from sklearn.model_selection import cross_val_score"
   ]
  },
  {
   "cell_type": "markdown",
   "id": "1832f1af",
   "metadata": {},
   "source": [
    "### 4.2.1 For Classification problem"
   ]
  },
  {
   "cell_type": "code",
   "execution_count": 26,
   "id": "8c76e02a",
   "metadata": {},
   "outputs": [],
   "source": [
    "from sklearn.ensemble import RandomForestClassifier\n",
    "from sklearn.model_selection import train_test_split\n",
    "\n",
    "# load the dataset\n",
    "heart_disease = pd.read_csv(\"dataset/heart-disease.csv\")\n",
    "\n",
    "np.random.seed(42)\n",
    "# create features and labels\n",
    "X = heart_disease.drop(\"target\", axis=1)\n",
    "y = heart_disease['target']\n",
    " \n",
    "# Split into training and test set\n",
    "X_train, X_test, y_train, y_test = train_test_split(X, y, test_size=0.2)\n",
    "\n",
    "# choose the model\n",
    "rfc = RandomForestClassifier()\n",
    "\n",
    "# train the model\n",
    "rfc.fit(X_train, y_train);"
   ]
  },
  {
   "cell_type": "code",
   "execution_count": 27,
   "id": "9c93cd47",
   "metadata": {},
   "outputs": [
    {
     "data": {
      "text/plain": [
       "0.8248087431693989"
      ]
     },
     "execution_count": 27,
     "metadata": {},
     "output_type": "execute_result"
    }
   ],
   "source": [
    "# Cross validate default =\"accuracy\"\n",
    "np.random.seed(42)\n",
    "cv_accuracy = cross_val_score(rfc, X, y, cv=5, scoring=None)\n",
    "np.mean(cv_accuracy)"
   ]
  },
  {
   "cell_type": "code",
   "execution_count": 28,
   "id": "d966750c",
   "metadata": {},
   "outputs": [
    {
     "data": {
      "text/plain": [
       "0.8248087431693989"
      ]
     },
     "execution_count": 28,
     "metadata": {},
     "output_type": "execute_result"
    }
   ],
   "source": [
    "# Cross validated accuracy\n",
    "np.random.seed(42)\n",
    "cv_accuracy = cross_val_score(rfc, X, y, cv=5, scoring=\"accuracy\")\n",
    "np.mean(cv_accuracy)"
   ]
  },
  {
   "cell_type": "code",
   "execution_count": 29,
   "id": "196a73af",
   "metadata": {},
   "outputs": [
    {
     "data": {
      "text/plain": [
       "0.8329547346025924"
      ]
     },
     "execution_count": 29,
     "metadata": {},
     "output_type": "execute_result"
    }
   ],
   "source": [
    "# Cross validated precision\n",
    "np.random.seed(42)\n",
    "cv_precision = cross_val_score(rfc, X, y, cv=5, scoring=\"precision\")\n",
    "np.mean(cv_precision)"
   ]
  },
  {
   "cell_type": "code",
   "execution_count": 30,
   "id": "df03ed71",
   "metadata": {},
   "outputs": [
    {
     "data": {
      "text/plain": [
       "0.8545454545454545"
      ]
     },
     "execution_count": 30,
     "metadata": {},
     "output_type": "execute_result"
    }
   ],
   "source": [
    "# Cross validated recall\n",
    "np.random.seed(42)\n",
    "cv_recall = cross_val_score(rfc, X, y, cv=5, scoring=\"recall\")\n",
    "np.mean(cv_recall)"
   ]
  },
  {
   "cell_type": "code",
   "execution_count": 31,
   "id": "80ef472d",
   "metadata": {},
   "outputs": [
    {
     "data": {
      "text/plain": [
       "0.8426854603423346"
      ]
     },
     "execution_count": 31,
     "metadata": {},
     "output_type": "execute_result"
    }
   ],
   "source": [
    "# Cross validated f1\n",
    "np.random.seed(42)\n",
    "cv_f1 = cross_val_score(rfc, X, y, cv=5, scoring=\"f1\")\n",
    "np.mean(cv_f1)"
   ]
  },
  {
   "cell_type": "markdown",
   "id": "17a0f91d",
   "metadata": {},
   "source": [
    "### 4.2.2 For Regression problem"
   ]
  },
  {
   "cell_type": "code",
   "execution_count": 34,
   "id": "52b25c54",
   "metadata": {},
   "outputs": [],
   "source": [
    "# import necessary libraries\n",
    "from sklearn.ensemble import RandomForestRegressor\n",
    "from sklearn.model_selection import train_test_split\n",
    "\n",
    "# load the dataset\n",
    "boston = load_boston()\n",
    "boston_df = pd.DataFrame(boston[\"data\"], columns=boston['feature_names'])\n",
    "boston_df[\"target\"] = pd.Series(boston[\"target\"])\n",
    "\n",
    "# feature and target module\n",
    "X = boston_df.drop(\"target\", axis=1)\n",
    "y = boston_df[\"target\"]\n",
    "\n",
    "np.random.seed(42)\n",
    "\n",
    "# Split into training and test set\n",
    "X_train, X_test, y_train, y_test = train_test_split(X, y, test_size=0.2)\n",
    "\n",
    "# choose the model\n",
    "rfr = RandomForestRegressor()\n",
    "\n",
    "# train the model\n",
    "rfr.fit(X_train, y_train);"
   ]
  },
  {
   "cell_type": "code",
   "execution_count": 38,
   "id": "e433308d",
   "metadata": {},
   "outputs": [
    {
     "data": {
      "text/plain": [
       "0.6243870737930857"
      ]
     },
     "execution_count": 38,
     "metadata": {},
     "output_type": "execute_result"
    }
   ],
   "source": [
    "# default scoring method = 'r2'\n",
    "np.random.seed(42)\n",
    "cv_default = cross_val_score(rfr, X, y, scoring=None)\n",
    "np.mean(cv_default)"
   ]
  },
  {
   "cell_type": "code",
   "execution_count": 37,
   "id": "54173100",
   "metadata": {},
   "outputs": [
    {
     "data": {
      "text/plain": [
       "0.6243870737930857"
      ]
     },
     "execution_count": 37,
     "metadata": {},
     "output_type": "execute_result"
    }
   ],
   "source": [
    "# mean absolute r2\n",
    "np.random.seed(42)\n",
    "cv_r2 = cross_val_score(rfr, X, y, scoring='r2')\n",
    "np.mean(cv_r2) "
   ]
  },
  {
   "cell_type": "code",
   "execution_count": 40,
   "id": "88b58fe4",
   "metadata": {},
   "outputs": [
    {
     "data": {
      "text/plain": [
       "array([-2.11419608, -2.58716832, -3.33976238, -3.78563366, -3.32941584])"
      ]
     },
     "execution_count": 40,
     "metadata": {},
     "output_type": "execute_result"
    }
   ],
   "source": [
    "# mean abs error\n",
    "np.random.seed(42)\n",
    "cv_mean_abs_error = cross_val_score(rfr, X, y, scoring='neg_mean_absolute_error')\n",
    "cv_mean_abs_error"
   ]
  },
  {
   "cell_type": "code",
   "execution_count": 41,
   "id": "000cb5ac",
   "metadata": {},
   "outputs": [
    {
     "data": {
      "text/plain": [
       "array([ -7.86326927, -12.71243178, -20.29089194, -45.93287403,\n",
       "       -19.50774726])"
      ]
     },
     "execution_count": 41,
     "metadata": {},
     "output_type": "execute_result"
    }
   ],
   "source": [
    "# mean squared error\n",
    "np.random.seed(42)\n",
    "cv_mean_squared_error = cross_val_score(rfr, X, y, scoring='neg_mean_squared_error')\n",
    "cv_mean_squared_error"
   ]
  }
 ],
 "metadata": {
  "kernelspec": {
   "display_name": "Python 3",
   "language": "python",
   "name": "python3"
  },
  "language_info": {
   "codemirror_mode": {
    "name": "ipython",
    "version": 3
   },
   "file_extension": ".py",
   "mimetype": "text/x-python",
   "name": "python",
   "nbconvert_exporter": "python",
   "pygments_lexer": "ipython3",
   "version": "3.8.8"
  }
 },
 "nbformat": 4,
 "nbformat_minor": 5
}
