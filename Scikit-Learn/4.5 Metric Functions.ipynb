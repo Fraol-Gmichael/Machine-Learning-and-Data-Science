{
 "cells": [
  {
   "cell_type": "markdown",
   "id": "36112344",
   "metadata": {},
   "source": [
    "# Introduction to Scikit-Learn (sklearn)\n",
    "\n",
    "0. An end to end sklearn workflow\n",
    "1. Getting the data ready\n",
    "2. Choose the right estimator/algorithm for our problems\n",
    "3. Fit the model/algorithm and use it to make predictions or our data\n",
    "4. =>Evaluating the model \n",
    "5. Improve the model\n",
    "6. Save and load trained model\n",
    "7. Putting it all together!"
   ]
  },
  {
   "cell_type": "markdown",
   "id": "6ac6ff51",
   "metadata": {},
   "source": [
    "### 4.5 Metric Functions"
   ]
  },
  {
   "cell_type": "code",
   "execution_count": 21,
   "id": "1f912d5c",
   "metadata": {},
   "outputs": [],
   "source": [
    "import pandas as pd\n",
    "import numpy as np\n",
    "from sklearn.datasets import load_boston"
   ]
  },
  {
   "cell_type": "markdown",
   "id": "50f210d6",
   "metadata": {},
   "source": [
    "### Regression Evaluation functions"
   ]
  },
  {
   "cell_type": "code",
   "execution_count": 22,
   "id": "6c35e9ba",
   "metadata": {},
   "outputs": [],
   "source": [
    "from sklearn.ensemble import RandomForestRegressor\n",
    "from sklearn.model_selection import train_test_split\n",
    "\n",
    "# load the dataset\n",
    "boston = load_boston()\n",
    "boston_df = pd.DataFrame(boston['data'], columns=boston['feature_names'])\n",
    "boston_df['target'] = pd.Series(boston['target'])\n",
    "\n",
    "# split into feature and label\n",
    "X = boston_df.drop(\"target\", axis=1)\n",
    "y = boston_df['target']\n",
    "\n",
    "np.random.seed(42)\n",
    "# create train and test split\n",
    "X_train, X_test, y_train, y_test = train_test_split(X, y)\n",
    "\n",
    "# select model\n",
    "model = RandomForestRegressor()\n",
    "\n",
    "# fit the model\n",
    "model.fit(X_train, y_train);\n",
    "\n",
    "# predicted value\n",
    "y_pred = model.predict(X_test)\n",
    "\n",
    "    "
   ]
  },
  {
   "cell_type": "code",
   "execution_count": 23,
   "id": "a81dd3f3",
   "metadata": {},
   "outputs": [],
   "source": [
    "from sklearn.metrics import r2_score, mean_absolute_error, mean_squared_error\n",
    "\n",
    "def evaluate_regression_model(y_test, x_pred):\n",
    "\n",
    "    print(\"Regression Evaluation Metrix\")\n",
    "    \n",
    "    print(f\"R^2 Error: {r2_score(y_test, y_pred)*100:.2f}%\")\n",
    "    print(f\"Mean Absolute Error: {mean_absolute_error(y_test, y_pred):.2f}\")\n",
    "    print(f\"Mean Squared Error: {mean_squared_error(y_test, y_pred):.2f}\")\n",
    "    \n"
   ]
  },
  {
   "cell_type": "code",
   "execution_count": 24,
   "id": "a9b17eb6",
   "metadata": {},
   "outputs": [
    {
     "name": "stdout",
     "output_type": "stream",
     "text": [
      "Regression Evaluation Metrix\n",
      "R^2 Error: 84.72%\n",
      "Mean Absolute Error: 2.12\n",
      "Mean Squared Error: 10.70\n"
     ]
    }
   ],
   "source": [
    "evaluate_regression_model(y_test, y_pred)"
   ]
  },
  {
   "cell_type": "markdown",
   "id": "86117432",
   "metadata": {},
   "source": [
    "### Classification Evaluation functions"
   ]
  },
  {
   "cell_type": "code",
   "execution_count": 31,
   "id": "00f373e2",
   "metadata": {},
   "outputs": [],
   "source": [
    "from sklearn.ensemble import RandomForestClassifier\n",
    "from sklearn.model_selection import train_test_split\n",
    "\n",
    "# load the dataset\n",
    "heart_disease = pd.read_csv(\"dataset/heart-disease.csv\")\n",
    "\n",
    "np.random.seed(42)\n",
    "# create features and labels\n",
    "X = heart_disease.drop(\"target\", axis=1)\n",
    "y = heart_disease['target']\n",
    " \n",
    "# Split into training and test set\n",
    "X_train, X_test, y_train, y_test = train_test_split(X, y, test_size=0.2)\n",
    "\n",
    "# choose the model\n",
    "rfc = RandomForestClassifier()\n",
    "\n",
    "# train the model\n",
    "rfc.fit(X_train, y_train);\n",
    "\n",
    "# make a prediction\n",
    "y_pred = rfc.predict(X_test)\n"
   ]
  },
  {
   "cell_type": "code",
   "execution_count": 32,
   "id": "0a45bb4e",
   "metadata": {},
   "outputs": [],
   "source": [
    "from sklearn.metrics import accuracy_score, f1_score, recall_score, precision_score\n",
    "\n",
    "def evaluate_classiification_model(y_test, y_pred):\n",
    "\n",
    "    print(\"Classification Evaluation Metrix\")\n",
    "    \n",
    "    print(f\"Accuracy: {accuracy_score(y_test, y_pred)*100:.2f}%\")\n",
    "\n",
    "    print(f\"Precission: {precision_score(y_test, y_pred)*100:.2f}%\")\n",
    "    print(f\"Recall: {recall_score(y_test, y_pred)*100:.2f}%\")\n",
    "    \n",
    "    print(f\"F1: {f1_score(y_test, y_pred)*100:.2f}%\")"
   ]
  },
  {
   "cell_type": "code",
   "execution_count": 33,
   "id": "15105392",
   "metadata": {},
   "outputs": [
    {
     "name": "stdout",
     "output_type": "stream",
     "text": [
      "Classification Evaluation Metrix\n",
      "Accuracy: 85.25%\n",
      "Precission: 84.85%\n",
      "Recall: 87.50%\n",
      "F1: 86.15%\n"
     ]
    }
   ],
   "source": [
    "evaluate_classiification_model(y_test, y_preds)"
   ]
  },
  {
   "cell_type": "code",
   "execution_count": null,
   "id": "b8ea7b94",
   "metadata": {},
   "outputs": [],
   "source": []
  }
 ],
 "metadata": {
  "kernelspec": {
   "display_name": "Python 3",
   "language": "python",
   "name": "python3"
  },
  "language_info": {
   "codemirror_mode": {
    "name": "ipython",
    "version": 3
   },
   "file_extension": ".py",
   "mimetype": "text/x-python",
   "name": "python",
   "nbconvert_exporter": "python",
   "pygments_lexer": "ipython3",
   "version": "3.8.8"
  }
 },
 "nbformat": 4,
 "nbformat_minor": 5
}
