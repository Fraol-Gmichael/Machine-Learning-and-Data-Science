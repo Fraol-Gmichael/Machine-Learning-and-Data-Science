{
 "cells": [
  {
   "cell_type": "markdown",
   "id": "357907f4",
   "metadata": {},
   "source": [
    "# Introduction to Scikit-Learn (sklearn)\n",
    "\n",
    "0. An end to end sklearn workflow\n",
    "1. Getting the data ready\n",
    "2. Choose the right estimator/algorithm for our problems\n",
    "3. Fit the model/algorithm and use it to make predictions or our data\n",
    "4. Evaluating the model \n",
    "5. =>Improve the model\n",
    "6. Save and load trained model\n",
    "7. Putting it all together!"
   ]
  },
  {
   "cell_type": "markdown",
   "id": "7f312aef",
   "metadata": {},
   "source": [
    "## 5. Improve the model\n",
    "### There are three ways of tunning parameters\n",
    "1. By Hand\n",
    "2. #Randomly with RandomSearchCV\n",
    "3. Exhaustively by GridSearchCV"
   ]
  },
  {
   "cell_type": "code",
   "execution_count": 2,
   "id": "a7579d8e",
   "metadata": {},
   "outputs": [
    {
     "data": {
      "text/plain": [
       "{'bootstrap': True,\n",
       " 'ccp_alpha': 0.0,\n",
       " 'criterion': 'mse',\n",
       " 'max_depth': None,\n",
       " 'max_features': 'auto',\n",
       " 'max_leaf_nodes': None,\n",
       " 'max_samples': None,\n",
       " 'min_impurity_decrease': 0.0,\n",
       " 'min_impurity_split': None,\n",
       " 'min_samples_leaf': 1,\n",
       " 'min_samples_split': 2,\n",
       " 'min_weight_fraction_leaf': 0.0,\n",
       " 'n_estimators': 100,\n",
       " 'n_jobs': None,\n",
       " 'oob_score': False,\n",
       " 'random_state': None,\n",
       " 'verbose': 0,\n",
       " 'warm_start': False}"
      ]
     },
     "execution_count": 2,
     "metadata": {},
     "output_type": "execute_result"
    }
   ],
   "source": [
    "## how to get hyperparameters in the model?\n",
    "from sklearn.ensemble import RandomForestRegressor\n",
    "import pandas as pd\n",
    "import numpy as np\n",
    "\n",
    "model = RandomForestRegressor()\n",
    "(model.get_params())"
   ]
  },
  {
   "cell_type": "markdown",
   "id": "decb31ea",
   "metadata": {},
   "source": [
    "#### Tunning by RandomizedSearchCV"
   ]
  },
  {
   "cell_type": "markdown",
   "id": "29849934",
   "metadata": {},
   "source": [
    "We're going to adjust:\n",
    "- max_depth\n",
    "- max_features\n",
    "- min_samples_leaf\n",
    "- min_samples_split\n",
    "- n_estimators"
   ]
  },
  {
   "cell_type": "code",
   "execution_count": 3,
   "id": "bf69f195",
   "metadata": {},
   "outputs": [],
   "source": [
    "from sklearn.metrics import (accuracy_score,\n",
    "                             f1_score, \n",
    "                             recall_score,\n",
    "                             precision_score,\n",
    "                             r2_score, \n",
    "                             mean_absolute_error, \n",
    "                             mean_squared_error)\n",
    "\n",
    "\n",
    "def evaluate_classiification_model(y_test, y_pred):\n",
    "    \n",
    "    accuracy = accuracy_score(y_test, y_pred) * 100\n",
    "    precission = precision_score(y_test, y_pred) * 100\n",
    "    recall = recall_score(y_test, y_pred) * 100\n",
    "    f1 = f1_score(y_test, y_pred) * 100\n",
    "    \n",
    "    metric_dict = {'accuracy': round(accuracy, 2),\n",
    "                  'precission': round(precission, 2),\n",
    "                  'recall': round(recall, 2),\n",
    "                  'f1': round(f1, 2)}\n",
    "    [print(each+\":\", metric_dict[each]) for each in metric_dict.keys()]\n",
    "    return metric_dict\n",
    "    \n",
    "def evaluate_regression_model(y_test, x_pred):\n",
    "    \n",
    "    r2 = r2_score(y_test, y_pred)\n",
    "    mae = mean_absolute_error(y_test, y_pred)\n",
    "    mse = mean_squared_error(y_test, y_pred)\n",
    "    \n",
    "    metric_dict = {'r2': round(r2, 2),\n",
    "                  'mae': round(mae, 2),\n",
    "                  'mse': round(mse, 2)}\n",
    "    [print(each+\":\", metric_dict[each]) for each in metric_dict.keys()]\n",
    "    return metric_dict\n"
   ]
  },
  {
   "cell_type": "code",
   "execution_count": 4,
   "id": "e6302e88",
   "metadata": {},
   "outputs": [],
   "source": [
    "from sklearn.ensemble import RandomForestClassifier\n",
    "\n",
    "# load the data \n",
    "heart_disease = pd.read_csv(\"dataset/heart-disease.csv\")\n",
    "\n",
    "# split into X and y\n",
    "X = heart_disease.drop(\"target\", axis=1)\n",
    "y = heart_disease['target']\n"
   ]
  },
  {
   "cell_type": "code",
   "execution_count": 5,
   "id": "c9cf38f8",
   "metadata": {},
   "outputs": [],
   "source": [
    "# split the data into tain, validation and test sets\n",
    "np.random.seed(42)\n",
    "\n",
    "def train_valid_test_split(X, y, split_ratio = [0.7, .15, .15]):\n",
    "    X['label'] = y\n",
    "    X = X.sample(frac=1)\n",
    "    y = X['label']\n",
    "    X = X.drop('label', axis=1)\n",
    "    length = len(X)\n",
    "    train_ratio, valid_ratio, split_ratio = split_ratio\n",
    "    train_split = round(train_ratio * length)\n",
    "    valid_split = round(train_split + valid_ratio * length)\n",
    "    \n",
    "    X_train, y_train = X[: train_split], y[:train_split]\n",
    "    X_valid, y_valid = X[train_split: valid_split], y[train_split: valid_split]\n",
    "    X_test, y_test = X[valid_split:], y[valid_split:]\n",
    "    \n",
    "    return [X_train, y_train, X_valid, y_valid, X_test, y_test]\n",
    "    "
   ]
  },
  {
   "cell_type": "code",
   "execution_count": 6,
   "id": "bc27e05b",
   "metadata": {},
   "outputs": [],
   "source": [
    "X_train, y_train, X_valid, y_valid, X_test, y_test = train_valid_test_split(X, y)"
   ]
  },
  {
   "cell_type": "code",
   "execution_count": 7,
   "id": "eb27d6af",
   "metadata": {},
   "outputs": [
    {
     "name": "stdout",
     "output_type": "stream",
     "text": [
      "accuracy: 82.22\n",
      "precission: 84.0\n",
      "recall: 84.0\n",
      "f1: 84.0\n"
     ]
    }
   ],
   "source": [
    "np.random.seed(42)\n",
    "\n",
    "# choose a model\n",
    "clf = RandomForestClassifier()\n",
    "\n",
    "# train the data by fitting\n",
    "clf.fit(X_train, y_train)\n",
    "\n",
    "# make baseline predictions\n",
    "y_preds = clf.predict(X_valid)\n",
    "\n",
    "# Evaluate the classifier on validation set\n",
    "baseline_metrices = evaluate_classiification_model(y_valid, y_preds) \n"
   ]
  },
  {
   "cell_type": "code",
   "execution_count": null,
   "id": "65fb9d27",
   "metadata": {},
   "outputs": [],
   "source": [
    "from sklearn.model_selection import RandomizedSearchCV\n",
    "\n",
    "\n"
   ]
  }
 ],
 "metadata": {
  "kernelspec": {
   "display_name": "Python 3",
   "language": "python",
   "name": "python3"
  },
  "language_info": {
   "codemirror_mode": {
    "name": "ipython",
    "version": 3
   },
   "file_extension": ".py",
   "mimetype": "text/x-python",
   "name": "python",
   "nbconvert_exporter": "python",
   "pygments_lexer": "ipython3",
   "version": "3.8.8"
  }
 },
 "nbformat": 4,
 "nbformat_minor": 5
}
