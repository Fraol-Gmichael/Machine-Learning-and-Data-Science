{
 "cells": [
  {
   "cell_type": "markdown",
   "id": "36112344",
   "metadata": {},
   "source": [
    "# Introduction to Scikit-Learn (sklearn)\n",
    "\n",
    "0. An end to end sklearn workflow\n",
    "1. Getting the data ready\n",
    "2. Choose the right estimator/algorithm for our problems\n",
    "3. Fit the model/algorithm and use it to make predictions or our data\n",
    "4. =>Evaluating the model \n",
    "5. Improve the model\n",
    "6. Save and load trained model\n",
    "7. Putting it all together!"
   ]
  },
  {
   "cell_type": "markdown",
   "id": "6ac6ff51",
   "metadata": {},
   "source": [
    "### 4.4 Regression Model Evaluation Metrix\n",
    "1. R^2 (r-squared) or coeficient of determination\n",
    "2. Mean absolute error (MAE)\n",
    "3. Mean squared error (MSE)"
   ]
  },
  {
   "cell_type": "code",
   "execution_count": 1,
   "id": "1f912d5c",
   "metadata": {},
   "outputs": [],
   "source": [
    "import pandas as pd\n",
    "import numpy as np\n",
    "from sklearn.datasets import load_boston"
   ]
  },
  {
   "cell_type": "code",
   "execution_count": 34,
   "id": "6c35e9ba",
   "metadata": {},
   "outputs": [],
   "source": [
    "from sklearn.ensemble import RandomForestRegressor\n",
    "from sklearn.model_selection import train_test_split\n",
    "\n",
    "# load the dataset\n",
    "boston = load_boston()\n",
    "boston_df = pd.DataFrame(boston['data'], columns=boston['feature_names'])\n",
    "boston_df['target'] = pd.Series(boston['target'])\n",
    "\n",
    "# split into feature and label\n",
    "X = boston_df.drop(\"target\", axis=1)\n",
    "y = boston_df['target']\n",
    "\n",
    "np.random.seed(42)\n",
    "# create train and test split\n",
    "X_train, X_test, y_train, y_test = train_test_split(X, y)\n",
    "\n",
    "# select model\n",
    "model = RandomForestRegressor()\n",
    "\n",
    "# fit the model\n",
    "model.fit(X_train, y_train);\n",
    "\n",
    "# predicted value\n",
    "y_pred = model.predict(X_test)"
   ]
  },
  {
   "cell_type": "markdown",
   "id": "50f210d6",
   "metadata": {},
   "source": [
    "#### Default Score method"
   ]
  },
  {
   "cell_type": "code",
   "execution_count": 35,
   "id": "a81dd3f3",
   "metadata": {},
   "outputs": [
    {
     "data": {
      "text/plain": [
       "0.8471696005277883"
      ]
     },
     "execution_count": 35,
     "metadata": {},
     "output_type": "execute_result"
    }
   ],
   "source": [
    "score = model.score(X_test, y_test)\n",
    "score"
   ]
  },
  {
   "cell_type": "markdown",
   "id": "ad5fb082",
   "metadata": {},
   "source": [
    "### R^2 Method\n",
    "Shows how close the actual values of the regression line "
   ]
  },
  {
   "cell_type": "code",
   "execution_count": 69,
   "id": "4f8ed676",
   "metadata": {},
   "outputs": [
    {
     "data": {
      "text/plain": [
       "0.8471696005277883"
      ]
     },
     "execution_count": 69,
     "metadata": {},
     "output_type": "execute_result"
    }
   ],
   "source": [
    "from sklearn.metrics import r2_score\n",
    "score = r2_score(y_test, y_pred)"
   ]
  },
  {
   "cell_type": "code",
   "execution_count": 74,
   "id": "d6b92ab6",
   "metadata": {},
   "outputs": [],
   "source": [
    "# custom r2 score by me\n",
    "def r2_score_method(y_test, y_pred):\n",
    "    \n",
    "    squared_error_with_line = np.sum((y_pred - y_test)**2)\n",
    "    squared_error_with_mean = np.sum((y_pred.mean() - y_test)**2)\n",
    "    \n",
    "    how_far_they_are = squared_error_with_line / squared_error_with_mean\n",
    "    how_close_they_are = 1 - how_far_they_are\n",
    "    \n",
    "    return how_close_they_are"
   ]
  },
  {
   "cell_type": "code",
   "execution_count": 75,
   "id": "70f88bdc",
   "metadata": {},
   "outputs": [],
   "source": [
    "score = r2_score_method(y_test, y_pred)"
   ]
  },
  {
   "cell_type": "code",
   "execution_count": 81,
   "id": "53b16816",
   "metadata": {},
   "outputs": [],
   "source": [
    "y_pred_mean = np.full(len(y_test), y_test.mean())\n"
   ]
  },
  {
   "cell_type": "code",
   "execution_count": 88,
   "id": "38fbdcf6",
   "metadata": {},
   "outputs": [
    {
     "data": {
      "text/plain": [
       "True"
      ]
     },
     "execution_count": 88,
     "metadata": {},
     "output_type": "execute_result"
    }
   ],
   "source": [
    "r2_score(y_test, y_pred_mean) == 0"
   ]
  },
  {
   "cell_type": "markdown",
   "id": "43730a3e",
   "metadata": {},
   "source": [
    "## Mean Absolute Error\n",
    "mean of difference of actual and predicted values"
   ]
  },
  {
   "cell_type": "code",
   "execution_count": 89,
   "id": "e21271d9",
   "metadata": {},
   "outputs": [
    {
     "data": {
      "text/plain": [
       "2.123362204724411"
      ]
     },
     "execution_count": 89,
     "metadata": {},
     "output_type": "execute_result"
    }
   ],
   "source": [
    "from sklearn.metrics  import mean_absolute_error\n",
    "mean_absolute_error(y_test, y_pred)"
   ]
  },
  {
   "cell_type": "code",
   "execution_count": 96,
   "id": "24500be2",
   "metadata": {},
   "outputs": [
    {
     "data": {
      "text/plain": [
       "2.1233622047244114"
      ]
     },
     "execution_count": 96,
     "metadata": {},
     "output_type": "execute_result"
    }
   ],
   "source": [
    "def mean_abs_error(y_test, y_pred):\n",
    "    y_pred_mean = y_test.mean()\n",
    "    mae = np.mean(np.abs(y_pred - y_test))\n",
    "    \n",
    "    return mae\n",
    "mean_abs_error(y_test, y_pred)"
   ]
  },
  {
   "cell_type": "markdown",
   "id": "083ff2d9",
   "metadata": {},
   "source": [
    "## Mean Squared Error\n"
   ]
  },
  {
   "cell_type": "code",
   "execution_count": 98,
   "id": "2eed0f80",
   "metadata": {},
   "outputs": [
    {
     "data": {
      "text/plain": [
       "10.70227633858268"
      ]
     },
     "execution_count": 98,
     "metadata": {},
     "output_type": "execute_result"
    }
   ],
   "source": [
    "from sklearn.metrics  import mean_squared_error\n",
    "mean_squared_error(y_test, y_pred)\n"
   ]
  },
  {
   "cell_type": "code",
   "execution_count": 101,
   "id": "bdbaca0b",
   "metadata": {},
   "outputs": [
    {
     "data": {
      "text/plain": [
       "10.702276338582683"
      ]
     },
     "execution_count": 101,
     "metadata": {},
     "output_type": "execute_result"
    }
   ],
   "source": [
    "def mean_sq_error(y_test, y_pred):\n",
    "    y_pred_mean = y_test.mean()\n",
    "    mse = np.mean(np.square(y_pred - y_test))\n",
    "    \n",
    "    return mse\n",
    "\n",
    "mean_sq_error(y_test, y_pred)"
   ]
  },
  {
   "cell_type": "code",
   "execution_count": null,
   "id": "6b6798a0",
   "metadata": {},
   "outputs": [],
   "source": []
  }
 ],
 "metadata": {
  "kernelspec": {
   "display_name": "Python 3",
   "language": "python",
   "name": "python3"
  },
  "language_info": {
   "codemirror_mode": {
    "name": "ipython",
    "version": 3
   },
   "file_extension": ".py",
   "mimetype": "text/x-python",
   "name": "python",
   "nbconvert_exporter": "python",
   "pygments_lexer": "ipython3",
   "version": "3.8.8"
  }
 },
 "nbformat": 4,
 "nbformat_minor": 5
}
